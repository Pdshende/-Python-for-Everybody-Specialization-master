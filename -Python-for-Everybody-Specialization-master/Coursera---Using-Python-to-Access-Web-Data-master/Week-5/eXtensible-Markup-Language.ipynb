{
 "cells": [
  {
   "cell_type": "markdown",
   "metadata": {},
   "source": [
    "#### 1. What is the name of the Python 2.x library to parse XML data?"
   ]
  },
  {
   "cell_type": "markdown",
   "metadata": {},
   "source": [
    "##### Ans: xml.etree.ElementTree"
   ]
  },
  {
   "cell_type": "markdown",
   "metadata": {},
   "source": [
    "#### 2. Which of the following are not commonly used serialization formats?"
   ]
  },
  {
   "cell_type": "markdown",
   "metadata": {},
   "source": [
    "##### Ans:\n",
    "<ul>\n",
    "    <li>Dictionaries</li>\n",
    "    <li>HTTP</li>\n",
    "    <li>TCP</li>\n",
    "</ul>"
   ]
  },
  {
   "cell_type": "markdown",
   "metadata": {},
   "source": [
    "#### 3. In this XML, which are the \"simple elements\"?"
   ]
  },
  {
   "cell_type": "raw",
   "metadata": {},
   "source": [
    "<people>\n",
    "    <person>\n",
    "       <name>Chuck</name>\n",
    "       <phone>303 4456</phone>\n",
    "    </person>\n",
    "    <person>\n",
    "       <name>Noah</name>\n",
    "       <phone>622 7421</phone>\n",
    "    </person>\n",
    "</people>"
   ]
  },
  {
   "cell_type": "markdown",
   "metadata": {},
   "source": [
    "##### Ans: \n",
    "<ul>\n",
    "    <li>name</li>\n",
    "    <li>phone</li>\n",
    "</ul>"
   ]
  },
  {
   "cell_type": "markdown",
   "metadata": {},
   "source": [
    "#### 4. In the following XML, which are attributes?"
   ]
  },
  {
   "cell_type": "raw",
   "metadata": {},
   "source": [
    "<person>\n",
    "  <name>Chuck</name>\n",
    "  <phone type=\"intl\">\n",
    "     +1 734 303 4456\n",
    "  </phone>\n",
    "  <email hide=\"yes\" />\n",
    "</person>"
   ]
  },
  {
   "cell_type": "markdown",
   "metadata": {},
   "source": [
    "##### Ans:\n",
    "<ul>\n",
    "    <li>type</li>\n",
    "    <li>hide</li>\n",
    "</ul>"
   ]
  },
  {
   "cell_type": "markdown",
   "metadata": {},
   "source": [
    "#### 5. In the following XML, which node is the parent node of node e"
   ]
  },
  {
   "cell_type": "raw",
   "metadata": {},
   "source": [
    "<a>\n",
    "  <b>X</b>\n",
    "  <c>\n",
    "    <d>Y</d>\n",
    "    <e>Z</e>\n",
    "  </c>\n",
    "</a>"
   ]
  },
  {
   "cell_type": "markdown",
   "metadata": {},
   "source": [
    "##### Ans: c"
   ]
  },
  {
   "cell_type": "markdown",
   "metadata": {},
   "source": [
    "#### 6. Looking at the following XML, what text value would we find at path \"/a/c/e\""
   ]
  },
  {
   "cell_type": "raw",
   "metadata": {},
   "source": [
    "<a>\n",
    "  <b>X</b>\n",
    "  <c>\n",
    "    <d>Y</d>\n",
    "    <e>Z</e>\n",
    "  </c>\n",
    "</a>"
   ]
  },
  {
   "cell_type": "markdown",
   "metadata": {},
   "source": [
    "##### Ans: Z"
   ]
  },
  {
   "cell_type": "markdown",
   "metadata": {},
   "source": [
    "#### 7. What is the purpose of XML Schema?"
   ]
  },
  {
   "cell_type": "markdown",
   "metadata": {},
   "source": [
    "##### Ans: To establish a contract as to what is valid XML"
   ]
  },
  {
   "cell_type": "markdown",
   "metadata": {},
   "source": [
    "#### 8. For this XML Schema:"
   ]
  },
  {
   "cell_type": "raw",
   "metadata": {},
   "source": [
    "<xs:complexType name=”person”>\n",
    "  <xs:sequence>\n",
    "    <xs:element name=\"lastname\" type=\"xs:string\"/>\n",
    "    <xs:element name=\"age\" type=\"xs:integer\"/>\n",
    "    <xs:element name=\"dateborn\" type=\"xs:date\"/>\n",
    "  </xs:sequence>\n",
    "</xs:complexType>"
   ]
  },
  {
   "cell_type": "markdown",
   "metadata": {},
   "source": [
    "#### And this XML,"
   ]
  },
  {
   "cell_type": "raw",
   "metadata": {},
   "source": [
    "<person>\n",
    "   <lastname>Severance</lastname>\n",
    "   <Age>17</Age>\n",
    "   <dateborn>2001-04-17</dateborn>\n",
    "</person>"
   ]
  },
  {
   "cell_type": "markdown",
   "metadata": {},
   "source": [
    "#### Which tag is incorrect?"
   ]
  },
  {
   "cell_type": "markdown",
   "metadata": {},
   "source": [
    "##### Ans: Age"
   ]
  },
  {
   "cell_type": "markdown",
   "metadata": {},
   "source": [
    "#### 9. What is a good time zone to use when computers are exchanging data over APIs?"
   ]
  },
  {
   "cell_type": "markdown",
   "metadata": {},
   "source": [
    "##### Ans: Universal Time / GMT"
   ]
  },
  {
   "cell_type": "markdown",
   "metadata": {},
   "source": [
    "#### 10. Which of the following dates is in ISO8601 format?"
   ]
  },
  {
   "cell_type": "markdown",
   "metadata": {},
   "source": [
    "##### Ans: 2002-05-30T09:30:10Z"
   ]
  }
 ],
 "metadata": {
  "kernelspec": {
   "display_name": "Python 3",
   "language": "python",
   "name": "python3"
  },
  "language_info": {
   "codemirror_mode": {
    "name": "ipython",
    "version": 3
   },
   "file_extension": ".py",
   "mimetype": "text/x-python",
   "name": "python",
   "nbconvert_exporter": "python",
   "pygments_lexer": "ipython3",
   "version": "3.6.4"
  }
 },
 "nbformat": 4,
 "nbformat_minor": 2
}
